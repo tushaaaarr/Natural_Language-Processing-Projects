{
 "cells": [
  {
   "cell_type": "markdown",
   "id": "minor-detroit",
   "metadata": {},
   "source": [
    "## Project:-Corona-Virus-Sentiment-Analysis"
   ]
  },
  {
   "cell_type": "markdown",
   "id": "tropical-mistake",
   "metadata": {},
   "source": [
    "in this project we are used tweeter dataset (tweets about corona virus) dataset "
   ]
  },
  {
   "cell_type": "markdown",
   "id": "previous-kuwait",
   "metadata": {},
   "source": [
    "### Aim - Sentiment analysis- predicting weather the tweet is Positive or Negative "
   ]
  },
  {
   "cell_type": "markdown",
   "id": "smaller-trail",
   "metadata": {},
   "source": [
    "Loading the Data"
   ]
  },
  {
   "cell_type": "code",
   "execution_count": 1,
   "id": "exotic-plain",
   "metadata": {},
   "outputs": [],
   "source": [
    "import pandas as pd\n",
    "import numpy as np\n",
    "import seaborn as sns\n",
    "import matplotlib.pyplot as plt\n",
    "%matplotlib inline"
   ]
  },
  {
   "cell_type": "code",
   "execution_count": 2,
   "id": "irish-prediction",
   "metadata": {},
   "outputs": [],
   "source": [
    "df=pd.read_csv('Corona_NLP_train.csv')"
   ]
  },
  {
   "cell_type": "code",
   "execution_count": null,
   "id": "revolutionary-physiology",
   "metadata": {},
   "outputs": [],
   "source": []
  },
  {
   "cell_type": "code",
   "execution_count": 3,
   "id": "related-description",
   "metadata": {
    "scrolled": false
   },
   "outputs": [
    {
     "data": {
      "text/html": [
       "<div>\n",
       "<style scoped>\n",
       "    .dataframe tbody tr th:only-of-type {\n",
       "        vertical-align: middle;\n",
       "    }\n",
       "\n",
       "    .dataframe tbody tr th {\n",
       "        vertical-align: top;\n",
       "    }\n",
       "\n",
       "    .dataframe thead th {\n",
       "        text-align: right;\n",
       "    }\n",
       "</style>\n",
       "<table border=\"1\" class=\"dataframe\">\n",
       "  <thead>\n",
       "    <tr style=\"text-align: right;\">\n",
       "      <th></th>\n",
       "      <th>UserName</th>\n",
       "      <th>ScreenName</th>\n",
       "      <th>Location</th>\n",
       "      <th>TweetAt</th>\n",
       "      <th>OriginalTweet</th>\n",
       "      <th>Sentiment</th>\n",
       "    </tr>\n",
       "  </thead>\n",
       "  <tbody>\n",
       "    <tr>\n",
       "      <th>0</th>\n",
       "      <td>3799</td>\n",
       "      <td>48751</td>\n",
       "      <td>London</td>\n",
       "      <td>16-03-2020</td>\n",
       "      <td>@MeNyrbie @Phil_Gahan @Chrisitv https://t.co/i...</td>\n",
       "      <td>Neutral</td>\n",
       "    </tr>\n",
       "    <tr>\n",
       "      <th>1</th>\n",
       "      <td>3800</td>\n",
       "      <td>48752</td>\n",
       "      <td>UK</td>\n",
       "      <td>16-03-2020</td>\n",
       "      <td>advice Talk to your neighbours family to excha...</td>\n",
       "      <td>Positive</td>\n",
       "    </tr>\n",
       "    <tr>\n",
       "      <th>2</th>\n",
       "      <td>3801</td>\n",
       "      <td>48753</td>\n",
       "      <td>Vagabonds</td>\n",
       "      <td>16-03-2020</td>\n",
       "      <td>Coronavirus Australia: Woolworths to give elde...</td>\n",
       "      <td>Positive</td>\n",
       "    </tr>\n",
       "    <tr>\n",
       "      <th>3</th>\n",
       "      <td>3802</td>\n",
       "      <td>48754</td>\n",
       "      <td>NaN</td>\n",
       "      <td>16-03-2020</td>\n",
       "      <td>My food stock is not the only one which is emp...</td>\n",
       "      <td>Positive</td>\n",
       "    </tr>\n",
       "    <tr>\n",
       "      <th>4</th>\n",
       "      <td>3803</td>\n",
       "      <td>48755</td>\n",
       "      <td>NaN</td>\n",
       "      <td>16-03-2020</td>\n",
       "      <td>Me, ready to go at supermarket during the #COV...</td>\n",
       "      <td>Extremely Negative</td>\n",
       "    </tr>\n",
       "  </tbody>\n",
       "</table>\n",
       "</div>"
      ],
      "text/plain": [
       "   UserName  ScreenName   Location     TweetAt  \\\n",
       "0      3799       48751     London  16-03-2020   \n",
       "1      3800       48752         UK  16-03-2020   \n",
       "2      3801       48753  Vagabonds  16-03-2020   \n",
       "3      3802       48754        NaN  16-03-2020   \n",
       "4      3803       48755        NaN  16-03-2020   \n",
       "\n",
       "                                       OriginalTweet           Sentiment  \n",
       "0  @MeNyrbie @Phil_Gahan @Chrisitv https://t.co/i...             Neutral  \n",
       "1  advice Talk to your neighbours family to excha...            Positive  \n",
       "2  Coronavirus Australia: Woolworths to give elde...            Positive  \n",
       "3  My food stock is not the only one which is emp...            Positive  \n",
       "4  Me, ready to go at supermarket during the #COV...  Extremely Negative  "
      ]
     },
     "execution_count": 3,
     "metadata": {},
     "output_type": "execute_result"
    }
   ],
   "source": [
    "df.head()"
   ]
  },
  {
   "cell_type": "code",
   "execution_count": 4,
   "id": "durable-decade",
   "metadata": {},
   "outputs": [
    {
     "name": "stdout",
     "output_type": "stream",
     "text": [
      "<class 'pandas.core.frame.DataFrame'>\n",
      "RangeIndex: 41157 entries, 0 to 41156\n",
      "Data columns (total 6 columns):\n",
      " #   Column         Non-Null Count  Dtype \n",
      "---  ------         --------------  ----- \n",
      " 0   UserName       41157 non-null  int64 \n",
      " 1   ScreenName     41157 non-null  int64 \n",
      " 2   Location       32567 non-null  object\n",
      " 3   TweetAt        41157 non-null  object\n",
      " 4   OriginalTweet  41157 non-null  object\n",
      " 5   Sentiment      41157 non-null  object\n",
      "dtypes: int64(2), object(4)\n",
      "memory usage: 1.9+ MB\n"
     ]
    }
   ],
   "source": [
    "df.info()"
   ]
  },
  {
   "cell_type": "code",
   "execution_count": 5,
   "id": "together-monitor",
   "metadata": {},
   "outputs": [
    {
     "data": {
      "text/plain": [
       "Positive              11422\n",
       "Negative               9917\n",
       "Neutral                7713\n",
       "Extremely Positive     6624\n",
       "Extremely Negative     5481\n",
       "Name: Sentiment, dtype: int64"
      ]
     },
     "execution_count": 5,
     "metadata": {},
     "output_type": "execute_result"
    }
   ],
   "source": [
    "df.Sentiment.value_counts()"
   ]
  },
  {
   "cell_type": "code",
   "execution_count": 6,
   "id": "mounted-samoa",
   "metadata": {},
   "outputs": [
    {
     "data": {
      "text/plain": [
       "<AxesSubplot:>"
      ]
     },
     "execution_count": 6,
     "metadata": {},
     "output_type": "execute_result"
    },
    {
     "data": {
      "image/png": "[encoded data removed]",
      "text/plain": [
       "<Figure size 432x288 with 1 Axes>"
      ]
     },
     "metadata": {
      "needs_background": "light"
     },
     "output_type": "display_data"
    }
   ],
   "source": [
    "df.Sentiment.value_counts().plot(kind='bar')"
   ]
  },
  {
   "cell_type": "markdown",
   "id": "formal-irrigation",
   "metadata": {},
   "source": [
    "#### Converting Sentiment column object into float or int"
   ]
  },
  {
   "cell_type": "code",
   "execution_count": 7,
   "id": "organized-reserve",
   "metadata": {},
   "outputs": [],
   "source": [
    "def encoding(sentiment):\n",
    "    if sentiment=='Positive':\n",
    "        return 2\n",
    "    elif sentiment=='Extremely Positive':\n",
    "        return 2\n",
    "    elif sentiment=='Negative':\n",
    "        return 0\n",
    "    elif sentiment=='Extremely Negative':\n",
    "        return 0\n",
    "    else:\n",
    "        return 1"
   ]
  },
  {
   "cell_type": "code",
   "execution_count": 8,
   "id": "enabling-wells",
   "metadata": {},
   "outputs": [],
   "source": [
    "df['Sentiment']=df['Sentiment'].apply(encoding)"
   ]
  },
  {
   "cell_type": "code",
   "execution_count": 9,
   "id": "atomic-result",
   "metadata": {},
   "outputs": [
    {
     "data": {
      "text/plain": [
       "2    18046\n",
       "0    15398\n",
       "1     7713\n",
       "Name: Sentiment, dtype: int64"
      ]
     },
     "execution_count": 9,
     "metadata": {},
     "output_type": "execute_result"
    }
   ],
   "source": [
    "df['Sentiment'].value_counts()"
   ]
  },
  {
   "cell_type": "markdown",
   "id": "superior-consistency",
   "metadata": {},
   "source": [
    "#### Some Data Visualization"
   ]
  },
  {
   "cell_type": "code",
   "execution_count": 10,
   "id": "relative-silly",
   "metadata": {
    "scrolled": true
   },
   "outputs": [
    {
     "data": {
      "text/html": [
       "<div>\n",
       "<style scoped>\n",
       "    .dataframe tbody tr th:only-of-type {\n",
       "        vertical-align: middle;\n",
       "    }\n",
       "\n",
       "    .dataframe tbody tr th {\n",
       "        vertical-align: top;\n",
       "    }\n",
       "\n",
       "    .dataframe thead th {\n",
       "        text-align: right;\n",
       "    }\n",
       "</style>\n",
       "<table border=\"1\" class=\"dataframe\">\n",
       "  <thead>\n",
       "    <tr style=\"text-align: right;\">\n",
       "      <th></th>\n",
       "      <th>index</th>\n",
       "      <th>Location</th>\n",
       "    </tr>\n",
       "  </thead>\n",
       "  <tbody>\n",
       "    <tr>\n",
       "      <th>0</th>\n",
       "      <td>London</td>\n",
       "      <td>540</td>\n",
       "    </tr>\n",
       "    <tr>\n",
       "      <th>1</th>\n",
       "      <td>United States</td>\n",
       "      <td>528</td>\n",
       "    </tr>\n",
       "    <tr>\n",
       "      <th>2</th>\n",
       "      <td>London, England</td>\n",
       "      <td>520</td>\n",
       "    </tr>\n",
       "    <tr>\n",
       "      <th>3</th>\n",
       "      <td>New York, NY</td>\n",
       "      <td>395</td>\n",
       "    </tr>\n",
       "    <tr>\n",
       "      <th>4</th>\n",
       "      <td>Washington, DC</td>\n",
       "      <td>373</td>\n",
       "    </tr>\n",
       "    <tr>\n",
       "      <th>5</th>\n",
       "      <td>United Kingdom</td>\n",
       "      <td>337</td>\n",
       "    </tr>\n",
       "    <tr>\n",
       "      <th>6</th>\n",
       "      <td>Los Angeles, CA</td>\n",
       "      <td>281</td>\n",
       "    </tr>\n",
       "    <tr>\n",
       "      <th>7</th>\n",
       "      <td>India</td>\n",
       "      <td>268</td>\n",
       "    </tr>\n",
       "    <tr>\n",
       "      <th>8</th>\n",
       "      <td>UK</td>\n",
       "      <td>232</td>\n",
       "    </tr>\n",
       "    <tr>\n",
       "      <th>9</th>\n",
       "      <td>Australia</td>\n",
       "      <td>225</td>\n",
       "    </tr>\n",
       "    <tr>\n",
       "      <th>10</th>\n",
       "      <td>USA</td>\n",
       "      <td>223</td>\n",
       "    </tr>\n",
       "    <tr>\n",
       "      <th>11</th>\n",
       "      <td>Canada</td>\n",
       "      <td>191</td>\n",
       "    </tr>\n",
       "    <tr>\n",
       "      <th>12</th>\n",
       "      <td>England, United Kingdom</td>\n",
       "      <td>191</td>\n",
       "    </tr>\n",
       "    <tr>\n",
       "      <th>13</th>\n",
       "      <td>Toronto, Ontario</td>\n",
       "      <td>160</td>\n",
       "    </tr>\n",
       "    <tr>\n",
       "      <th>14</th>\n",
       "      <td>Global</td>\n",
       "      <td>159</td>\n",
       "    </tr>\n",
       "  </tbody>\n",
       "</table>\n",
       "</div>"
      ],
      "text/plain": [
       "                      index  Location\n",
       "0                    London       540\n",
       "1             United States       528\n",
       "2           London, England       520\n",
       "3              New York, NY       395\n",
       "4            Washington, DC       373\n",
       "5            United Kingdom       337\n",
       "6           Los Angeles, CA       281\n",
       "7                     India       268\n",
       "8                        UK       232\n",
       "9                 Australia       225\n",
       "10                      USA       223\n",
       "11                   Canada       191\n",
       "12  England, United Kingdom       191\n",
       "13         Toronto, Ontario       160\n",
       "14                   Global       159"
      ]
     },
     "execution_count": 10,
     "metadata": {},
     "output_type": "execute_result"
    }
   ],
   "source": [
    "location=df['Location'].value_counts()[:15].reset_index()\n",
    "location"
   ]
  },
  {
   "cell_type": "code",
   "execution_count": 11,
   "id": "urban-truth",
   "metadata": {},
   "outputs": [
    {
     "data": {
      "text/plain": [
       "<AxesSubplot:xlabel='index', ylabel='Location'>"
      ]
     },
     "execution_count": 11,
     "metadata": {},
     "output_type": "execute_result"
    },
    {
     "data": {
      "image/png": "[encoded data removed]",
      "text/plain": [
       "<Figure size 1440x576 with 1 Axes>"
      ]
     },
     "metadata": {
      "needs_background": "light"
     },
     "output_type": "display_data"
    }
   ],
   "source": [
    "plt.figure(figsize=(20,8))\n",
    "sns.barplot(x='index',y='Location',data=location[:13])\n"
   ]
  },
  {
   "cell_type": "code",
   "execution_count": null,
   "id": "refined-roller",
   "metadata": {},
   "outputs": [],
   "source": []
  },
  {
   "cell_type": "code",
   "execution_count": null,
   "id": "floating-brunswick",
   "metadata": {},
   "outputs": [],
   "source": []
  },
  {
   "cell_type": "markdown",
   "id": "foster-devon",
   "metadata": {},
   "source": [
    "## Text Pre-Proccessing"
   ]
  },
  {
   "cell_type": "markdown",
   "id": "associate-prophet",
   "metadata": {},
   "source": [
    "1.Removing Punctuations\n",
    "\n",
    "2.Removing Hyperlinks and unnecessary text\n",
    "\n",
    "3.Removing Stopwords\n",
    "\n",
    "4.Vectorization\n",
    "\n",
    "5.TF-IDF and BOW"
   ]
  },
  {
   "cell_type": "code",
   "execution_count": 12,
   "id": "suffering-colon",
   "metadata": {},
   "outputs": [],
   "source": [
    "import nltk\n",
    "from nltk.corpus import stopwords\n",
    "import re"
   ]
  },
  {
   "cell_type": "code",
   "execution_count": 6,
   "id": "august-briefs",
   "metadata": {},
   "outputs": [],
   "source": [
    "# text4"
   ]
  },
  {
   "cell_type": "code",
   "execution_count": 22,
   "id": "monetary-coach",
   "metadata": {},
   "outputs": [],
   "source": [
    "import re"
   ]
  },
  {
   "cell_type": "markdown",
   "id": "affiliated-selling",
   "metadata": {},
   "source": [
    "Replacing Hyperlinks and punctuation from the dataset"
   ]
  },
  {
   "cell_type": "code",
   "execution_count": 25,
   "id": "executive-internet",
   "metadata": {},
   "outputs": [
    {
     "name": "stderr",
     "output_type": "stream",
     "text": [
      "<ipython-input-25-43454f3f7a59>:1: FutureWarning: The default value of regex will change from True to False in a future version.\n",
      "  df['OriginalTweet']=df['OriginalTweet'].str.replace(r'http\\S+', \"\")\n",
      "<ipython-input-25-43454f3f7a59>:2: FutureWarning: The default value of regex will change from True to False in a future version.\n",
      "  df['OriginalTweet']=df['OriginalTweet'].str.replace(r\"#\\S+\", \"\")\n",
      "<ipython-input-25-43454f3f7a59>:3: FutureWarning: The default value of regex will change from True to False in a future version.\n",
      "  df['OriginalTweet']=df['OriginalTweet'].str.replace(r\"@\\S+\", \"\")\n",
      "<ipython-input-25-43454f3f7a59>:6: FutureWarning: The default value of regex will change from True to False in a future version.\n",
      "  df['OriginalTweet']=df['OriginalTweet'].str.replace(r\"[^\\w\\s]\", \"\")\n"
     ]
    }
   ],
   "source": [
    "df['OriginalTweet']=df['OriginalTweet'].str.replace(r'http\\S+', \"\")\n",
    "df['OriginalTweet']=df['OriginalTweet'].str.replace(r\"#\\S+\", \"\")\n",
    "df['OriginalTweet']=df['OriginalTweet'].str.replace(r\"@\\S+\", \"\")\n",
    "df['OriginalTweet']=df['OriginalTweet'].str.replace(\"\\r\", \"\")\n",
    "df['OriginalTweet']=df['OriginalTweet'].str.replace(\"\\n\", \"\")\n",
    "df['OriginalTweet']=df['OriginalTweet'].str.replace(r\"[^\\w\\s]\", \"\")\n",
    "df['OriginalTweet']=df['OriginalTweet'].str.lower()"
   ]
  },
  {
   "cell_type": "code",
   "execution_count": 4,
   "id": "acoustic-gothic",
   "metadata": {},
   "outputs": [],
   "source": [
    "# df['OriginalTweet']"
   ]
  },
  {
   "cell_type": "code",
   "execution_count": 27,
   "id": "deadly-seattle",
   "metadata": {},
   "outputs": [
    {
     "data": {
      "text/html": [
       "<div>\n",
       "<style scoped>\n",
       "    .dataframe tbody tr th:only-of-type {\n",
       "        vertical-align: middle;\n",
       "    }\n",
       "\n",
       "    .dataframe tbody tr th {\n",
       "        vertical-align: top;\n",
       "    }\n",
       "\n",
       "    .dataframe thead th {\n",
       "        text-align: right;\n",
       "    }\n",
       "</style>\n",
       "<table border=\"1\" class=\"dataframe\">\n",
       "  <thead>\n",
       "    <tr style=\"text-align: right;\">\n",
       "      <th></th>\n",
       "      <th>UserName</th>\n",
       "      <th>ScreenName</th>\n",
       "      <th>Location</th>\n",
       "      <th>TweetAt</th>\n",
       "      <th>OriginalTweet</th>\n",
       "      <th>Sentiment</th>\n",
       "    </tr>\n",
       "  </thead>\n",
       "  <tbody>\n",
       "    <tr>\n",
       "      <th>0</th>\n",
       "      <td>3799</td>\n",
       "      <td>48751</td>\n",
       "      <td>London</td>\n",
       "      <td>16-03-2020</td>\n",
       "      <td>and  and</td>\n",
       "      <td>1</td>\n",
       "    </tr>\n",
       "    <tr>\n",
       "      <th>1</th>\n",
       "      <td>3800</td>\n",
       "      <td>48752</td>\n",
       "      <td>UK</td>\n",
       "      <td>16-03-2020</td>\n",
       "      <td>advice talk to your neighbours family to excha...</td>\n",
       "      <td>2</td>\n",
       "    </tr>\n",
       "    <tr>\n",
       "      <th>2</th>\n",
       "      <td>3801</td>\n",
       "      <td>48753</td>\n",
       "      <td>Vagabonds</td>\n",
       "      <td>16-03-2020</td>\n",
       "      <td>coronavirus australia woolworths to give elder...</td>\n",
       "      <td>2</td>\n",
       "    </tr>\n",
       "    <tr>\n",
       "      <th>3</th>\n",
       "      <td>3802</td>\n",
       "      <td>48754</td>\n",
       "      <td>NaN</td>\n",
       "      <td>16-03-2020</td>\n",
       "      <td>my food stock is not the only one which is emp...</td>\n",
       "      <td>2</td>\n",
       "    </tr>\n",
       "    <tr>\n",
       "      <th>4</th>\n",
       "      <td>3803</td>\n",
       "      <td>48755</td>\n",
       "      <td>NaN</td>\n",
       "      <td>16-03-2020</td>\n",
       "      <td>me ready to go at supermarket during the  outb...</td>\n",
       "      <td>0</td>\n",
       "    </tr>\n",
       "  </tbody>\n",
       "</table>\n",
       "</div>"
      ],
      "text/plain": [
       "   UserName  ScreenName   Location     TweetAt  \\\n",
       "0      3799       48751     London  16-03-2020   \n",
       "1      3800       48752         UK  16-03-2020   \n",
       "2      3801       48753  Vagabonds  16-03-2020   \n",
       "3      3802       48754        NaN  16-03-2020   \n",
       "4      3803       48755        NaN  16-03-2020   \n",
       "\n",
       "                                       OriginalTweet  Sentiment  \n",
       "0                                          and  and           1  \n",
       "1  advice talk to your neighbours family to excha...          2  \n",
       "2  coronavirus australia woolworths to give elder...          2  \n",
       "3  my food stock is not the only one which is emp...          2  \n",
       "4  me ready to go at supermarket during the  outb...          0  "
      ]
     },
     "execution_count": 27,
     "metadata": {},
     "output_type": "execute_result"
    }
   ],
   "source": [
    "df.head()"
   ]
  },
  {
   "cell_type": "code",
   "execution_count": 28,
   "id": "apart-martin",
   "metadata": {},
   "outputs": [
    {
     "name": "stderr",
     "output_type": "stream",
     "text": [
      "<ipython-input-28-36ca88674ab8>:1: FutureWarning: The default value of regex will change from True to False in a future version.\n",
      "  X_train = df['OriginalTweet'].str.replace(r'http\\S+', \"\")\n",
      "<ipython-input-28-36ca88674ab8>:2: FutureWarning: The default value of regex will change from True to False in a future version.\n",
      "  X_train = X_train.str.replace(r\"#\\S+\", \"\")\n",
      "<ipython-input-28-36ca88674ab8>:3: FutureWarning: The default value of regex will change from True to False in a future version.\n",
      "  X_train = X_train.str.replace(r\"@\\S+\", \"\")\n",
      "<ipython-input-28-36ca88674ab8>:6: FutureWarning: The default value of regex will change from True to False in a future version.\n",
      "  X_train = X_train.str.replace(r\"[^\\w\\s]\", \"\")\n"
     ]
    }
   ],
   "source": [
    "X_train = df['OriginalTweet'].str.replace(r'http\\S+', \"\")\n",
    "X_train = X_train.str.replace(r\"#\\S+\", \"\")\n",
    "X_train = X_train.str.replace(r\"@\\S+\", \"\")\n",
    "X_train = X_train.str.replace(\"\\r\", \"\")\n",
    "X_train = X_train.str.replace(\"\\n\", \"\")\n",
    "X_train = X_train.str.replace(r\"[^\\w\\s]\", \"\")\n",
    "X_train = X_train.str.lower()"
   ]
  },
  {
   "cell_type": "code",
   "execution_count": 29,
   "id": "found-malta",
   "metadata": {},
   "outputs": [
    {
     "data": {
      "text/plain": [
       "0                                                and  and \n",
       "1        advice talk to your neighbours family to excha...\n",
       "2        coronavirus australia woolworths to give elder...\n",
       "3        my food stock is not the only one which is emp...\n",
       "4        me ready to go at supermarket during the  outb...\n",
       "                               ...                        \n",
       "41152    airline pilots offering to stock supermarket s...\n",
       "41153    response to complaint not provided citing covi...\n",
       "41154    you know its getting tough when   is rationing...\n",
       "41155    is it wrong that the smell of hand sanitizer i...\n",
       "41156     well newused rift s are going for 70000 on am...\n",
       "Name: OriginalTweet, Length: 41157, dtype: object"
      ]
     },
     "execution_count": 29,
     "metadata": {},
     "output_type": "execute_result"
    }
   ],
   "source": [
    "X_train"
   ]
  },
  {
   "cell_type": "markdown",
   "id": "frozen-lloyd",
   "metadata": {},
   "source": [
    "creating a Function which can removes stopwords and punctuations"
   ]
  },
  {
   "cell_type": "code",
   "execution_count": 30,
   "id": "controversial-chassis",
   "metadata": {},
   "outputs": [],
   "source": [
    "def text_process(text):\n",
    "    nopunc=[tweet for tweet in text if text not in string.punctuation]\n",
    "    \n",
    "    nopunc=''.join(nopunc)\n",
    "    \n",
    "    return [mess for mess in nopunc.split() if mess.lower() not in stopwords.words('english')]"
   ]
  },
  {
   "cell_type": "markdown",
   "id": "sacred-registration",
   "metadata": {},
   "source": [
    "just for testing our function"
   ]
  },
  {
   "cell_type": "code",
   "execution_count": 31,
   "id": "instructional-gardening",
   "metadata": {},
   "outputs": [
    {
     "data": {
      "text/plain": [
       "0                                                   []\n",
       "1    [advice, talk, neighbours, family, exchange, p...\n",
       "2    [coronavirus, australia, woolworths, give, eld...\n",
       "3    [food, stock, one, emptyplease, dont, panic, e...\n",
       "4    [ready, go, supermarket, outbreaknot, im, para...\n",
       "Name: OriginalTweet, dtype: object"
      ]
     },
     "execution_count": 31,
     "metadata": {},
     "output_type": "execute_result"
    }
   ],
   "source": [
    "df['OriginalTweet'][:5].apply(text_process)"
   ]
  },
  {
   "cell_type": "code",
   "execution_count": null,
   "id": "black-finger",
   "metadata": {},
   "outputs": [],
   "source": []
  },
  {
   "cell_type": "markdown",
   "id": "improving-colombia",
   "metadata": {},
   "source": [
    "### Vectorization"
   ]
  },
  {
   "cell_type": "code",
   "execution_count": 32,
   "id": "actual-vanilla",
   "metadata": {},
   "outputs": [],
   "source": [
    "from sklearn.feature_extraction.text import CountVectorizer"
   ]
  },
  {
   "cell_type": "code",
   "execution_count": 33,
   "id": "departmental-irish",
   "metadata": {},
   "outputs": [],
   "source": [
    "bow_transformer=CountVectorizer(analyzer=text_process).fit(df['OriginalTweet'])"
   ]
  },
  {
   "cell_type": "code",
   "execution_count": 37,
   "id": "falling-village",
   "metadata": {},
   "outputs": [
    {
     "name": "stdout",
     "output_type": "stream",
     "text": [
      "45087\n"
     ]
    }
   ],
   "source": [
    "print(len(bow_transformer.vocabulary_))"
   ]
  },
  {
   "cell_type": "code",
   "execution_count": 35,
   "id": "intensive-catalyst",
   "metadata": {},
   "outputs": [],
   "source": [
    "tweet_bow = bow_transformer.transform(df['OriginalTweet'])"
   ]
  },
  {
   "cell_type": "code",
   "execution_count": 36,
   "id": "following-equation",
   "metadata": {},
   "outputs": [
    {
     "name": "stdout",
     "output_type": "stream",
     "text": [
      "Shape of Sparse Matrix:  (41157, 45087)\n",
      "Amount of Non-Zero occurences:  632319\n"
     ]
    }
   ],
   "source": [
    "print('Shape of Sparse Matrix: ', tweet_bow.shape)\n",
    "print('Amount of Non-Zero occurences: ', tweet_bow.nnz)"
   ]
  },
  {
   "cell_type": "code",
   "execution_count": null,
   "id": "brazilian-correction",
   "metadata": {},
   "outputs": [],
   "source": []
  },
  {
   "cell_type": "markdown",
   "id": "color-questionnaire",
   "metadata": {},
   "source": [
    "### TF-IDF"
   ]
  },
  {
   "cell_type": "code",
   "execution_count": 39,
   "id": "sound-dublin",
   "metadata": {},
   "outputs": [],
   "source": [
    "from sklearn.feature_extraction.text import TfidfTransformer"
   ]
  },
  {
   "cell_type": "code",
   "execution_count": 42,
   "id": "unlikely-original",
   "metadata": {},
   "outputs": [],
   "source": [
    "tfidf=TfidfTransformer().fit(tweet_bow)\n",
    "tfidf_tweet=tfidf.transform(tweet_bow)"
   ]
  },
  {
   "cell_type": "code",
   "execution_count": 44,
   "id": "suspected-daisy",
   "metadata": {},
   "outputs": [
    {
     "name": "stdout",
     "output_type": "stream",
     "text": [
      "  (1, 39603)\t0.162548708435\n",
      "  (1, 39138)\t0.12229115203739169\n",
      "  (1, 36320)\t0.08749495148497007\n",
      "  (1, 35930)\t0.14654122976304326\n",
      "  (1, 35393)\t0.1716128585510132\n",
      "  (1, 33260)\t0.16705761063862173\n",
      "  (1, 30946)\t0.25842323026070724\n",
      "  (1, 30261)\t0.3274600367663789\n",
      "  (1, 28601)\t0.1283924268581971\n",
      "  (1, 28389)\t0.08880765349299488\n",
      "  (1, 27872)\t0.34566897082280634\n",
      "  (1, 27176)\t0.3909093232287527\n",
      "  (1, 25366)\t0.20272787904734568\n",
      "  (1, 23821)\t0.14158364363214251\n",
      "  (1, 18206)\t0.21732772104019876\n",
      "  (1, 15702)\t0.13195915375885828\n",
      "  (1, 15250)\t0.2003112112622843\n",
      "  (1, 14488)\t0.2095097984093741\n",
      "  (1, 10981)\t0.16806802626558873\n",
      "  (1, 10098)\t0.14496219812671032\n",
      "  (1, 8631)\t0.20737370092696392\n",
      "  (1, 3207)\t0.14935776672544382\n",
      "  (1, 3081)\t0.20109063019445056\n",
      "  (1, 2898)\t0.1914020141176961\n",
      "  (2, 44291)\t0.4402884089837706\n",
      "  :\t:\n",
      "  (41156, 43899)\t0.28426355581831625\n",
      "  (41156, 43737)\t0.12919365341373254\n",
      "  (41156, 43164)\t0.24821598792388957\n",
      "  (41156, 42503)\t0.19218861472029125\n",
      "  (41156, 36680)\t0.13414931836158475\n",
      "  (41156, 34260)\t0.2083932778203501\n",
      "  (41156, 34117)\t0.12732399607089553\n",
      "  (41156, 34111)\t0.28426355581831625\n",
      "  (41156, 32859)\t0.13468042356192356\n",
      "  (41156, 31402)\t0.07120123257813724\n",
      "  (41156, 31388)\t0.12540586786980795\n",
      "  (41156, 27629)\t0.1495956960303653\n",
      "  (41156, 27313)\t0.28426355581831625\n",
      "  (41156, 24873)\t0.12661827140290943\n",
      "  (41156, 19678)\t0.2737203180880965\n",
      "  (41156, 19202)\t0.26043740944231514\n",
      "  (41156, 18008)\t0.10726677187677545\n",
      "  (41156, 10966)\t0.16490912453718365\n",
      "  (41156, 10678)\t0.07129121406359205\n",
      "  (41156, 4188)\t0.16043358647398817\n",
      "  (41156, 3886)\t0.15871376484867292\n",
      "  (41156, 3837)\t0.19808536136783803\n",
      "  (41156, 3641)\t0.23187038776488209\n",
      "  (41156, 2243)\t0.25569653414088317\n",
      "  (41156, 1671)\t0.2516881811872174\n"
     ]
    }
   ],
   "source": [
    "print(tfidf_tweet)"
   ]
  },
  {
   "cell_type": "code",
   "execution_count": null,
   "id": "matched-possibility",
   "metadata": {},
   "outputs": [],
   "source": []
  },
  {
   "cell_type": "markdown",
   "id": "taken-acting",
   "metadata": {},
   "source": [
    "## Model Training"
   ]
  },
  {
   "cell_type": "markdown",
   "id": "arranged-apparel",
   "metadata": {},
   "source": [
    "#### Multinomial NB Classifier"
   ]
  },
  {
   "cell_type": "code",
   "execution_count": 46,
   "id": "competitive-drove",
   "metadata": {},
   "outputs": [],
   "source": [
    "from sklearn.naive_bayes import MultinomialNB"
   ]
  },
  {
   "cell_type": "code",
   "execution_count": 52,
   "id": "proved-trick",
   "metadata": {},
   "outputs": [],
   "source": [
    "model=MultinomialNB().fit(tfidf_tweet,df['Sentiment'])\n"
   ]
  },
  {
   "cell_type": "code",
   "execution_count": 53,
   "id": "encouraging-string",
   "metadata": {},
   "outputs": [],
   "source": [
    "all_predictions=model.predict(tfidf_tweet)"
   ]
  },
  {
   "cell_type": "code",
   "execution_count": 56,
   "id": "productive-wesley",
   "metadata": {},
   "outputs": [],
   "source": [
    "from sklearn.metrics import classification_report"
   ]
  },
  {
   "cell_type": "code",
   "execution_count": 57,
   "id": "crucial-wealth",
   "metadata": {},
   "outputs": [
    {
     "name": "stdout",
     "output_type": "stream",
     "text": [
      "[2 2 2 ... 2 2 0]\n"
     ]
    }
   ],
   "source": [
    "print(all_predictions)"
   ]
  },
  {
   "cell_type": "markdown",
   "id": "alike-cursor",
   "metadata": {},
   "source": [
    "#### model evaluation"
   ]
  },
  {
   "cell_type": "code",
   "execution_count": 58,
   "id": "happy-timber",
   "metadata": {},
   "outputs": [
    {
     "name": "stdout",
     "output_type": "stream",
     "text": [
      "              precision    recall  f1-score   support\n",
      "\n",
      "           0       0.82      0.79      0.81     15398\n",
      "           1       0.98      0.09      0.16      7713\n",
      "           2       0.67      0.96      0.79     18046\n",
      "\n",
      "    accuracy                           0.73     41157\n",
      "   macro avg       0.83      0.61      0.59     41157\n",
      "weighted avg       0.79      0.73      0.68     41157\n",
      "\n"
     ]
    }
   ],
   "source": [
    "print(classification_report(df['Sentiment'], all_predictions))"
   ]
  },
  {
   "cell_type": "code",
   "execution_count": null,
   "id": "adjacent-closure",
   "metadata": {},
   "outputs": [],
   "source": [
    "\n"
   ]
  },
  {
   "cell_type": "markdown",
   "id": "graduate-hebrew",
   "metadata": {},
   "source": [
    "### Train Test Split"
   ]
  },
  {
   "cell_type": "code",
   "execution_count": 60,
   "id": "likely-result",
   "metadata": {},
   "outputs": [],
   "source": [
    "from sklearn.model_selection import train_test_split"
   ]
  },
  {
   "cell_type": "code",
   "execution_count": 61,
   "id": "frank-dynamics",
   "metadata": {},
   "outputs": [],
   "source": [
    "X=df['OriginalTweet']\n",
    "y=df['Sentiment']"
   ]
  },
  {
   "cell_type": "code",
   "execution_count": 62,
   "id": "illegal-compiler",
   "metadata": {},
   "outputs": [],
   "source": [
    "X_train, X_test, y_train, y_test = train_test_split(X, y, test_size=0.3, random_state=101)"
   ]
  },
  {
   "cell_type": "code",
   "execution_count": 63,
   "id": "handmade-value",
   "metadata": {},
   "outputs": [
    {
     "data": {
      "text/plain": [
       "7178     market update the government has limited custo...\n",
       "32341    louisiana insurance commissioner jim donelon a...\n",
       "22374    the public is panic grocery shopping due to th...\n",
       "27101    this is just so anticonsumer  earlyboarding fe...\n",
       "30997    former deputy finance minister fadhil nabi eco...\n",
       "                               ...                        \n",
       "12363      representatives from helped deliver products...\n",
       "5695     suggests have necessary medications amp medica...\n",
       "8006     if anyones making cash by selling medicines bo...\n",
       "17745    my general practitioner told me the same no pr...\n",
       "17931    are you getting weird text message or calls re...\n",
       "Name: OriginalTweet, Length: 28809, dtype: object"
      ]
     },
     "execution_count": 63,
     "metadata": {},
     "output_type": "execute_result"
    }
   ],
   "source": [
    "X_train"
   ]
  },
  {
   "cell_type": "code",
   "execution_count": null,
   "id": "bulgarian-jungle",
   "metadata": {},
   "outputs": [],
   "source": []
  },
  {
   "cell_type": "markdown",
   "id": "illegal-complexity",
   "metadata": {},
   "source": [
    "### Building Pipeline"
   ]
  },
  {
   "cell_type": "code",
   "execution_count": 59,
   "id": "sacred-alignment",
   "metadata": {},
   "outputs": [],
   "source": [
    "from sklearn.pipeline import Pipeline"
   ]
  },
  {
   "cell_type": "code",
   "execution_count": 66,
   "id": "hindu-think",
   "metadata": {},
   "outputs": [],
   "source": [
    "pipeline=Pipeline([\n",
    "    ('bow', CountVectorizer(analyzer=text_process)),\n",
    "    ('tfidf', TfidfTransformer()),\n",
    "    ('classifier',MultinomialNB()),\n",
    "])"
   ]
  },
  {
   "cell_type": "code",
   "execution_count": 67,
   "id": "narrative-hometown",
   "metadata": {},
   "outputs": [
    {
     "data": {
      "text/plain": [
       "Pipeline(steps=[('bow',\n",
       "                 CountVectorizer(analyzer=<function text_process at 0x000002A08A48B280>)),\n",
       "                ('tfidf', TfidfTransformer()),\n",
       "                ('classifier', MultinomialNB())])"
      ]
     },
     "execution_count": 67,
     "metadata": {},
     "output_type": "execute_result"
    }
   ],
   "source": [
    "pipeline.fit(X_train,y_train)"
   ]
  },
  {
   "cell_type": "code",
   "execution_count": null,
   "id": "technical-overview",
   "metadata": {},
   "outputs": [],
   "source": []
  },
  {
   "cell_type": "code",
   "execution_count": 68,
   "id": "funded-salad",
   "metadata": {},
   "outputs": [
    {
     "name": "stdout",
     "output_type": "stream",
     "text": [
      "[2 2 2 ... 0 0 0]\n"
     ]
    }
   ],
   "source": [
    "predictions=pipeline.predict(X_test)\n",
    "print(predictions)"
   ]
  },
  {
   "cell_type": "code",
   "execution_count": 70,
   "id": "regulated-region",
   "metadata": {},
   "outputs": [
    {
     "data": {
      "text/plain": [
       "27922    1\n",
       "8736     2\n",
       "27033    1\n",
       "19818    0\n",
       "2948     2\n",
       "        ..\n",
       "33824    2\n",
       "18618    0\n",
       "17030    1\n",
       "33941    1\n",
       "18324    0\n",
       "Name: Sentiment, Length: 12348, dtype: int64"
      ]
     },
     "execution_count": 70,
     "metadata": {},
     "output_type": "execute_result"
    }
   ],
   "source": [
    "y_test"
   ]
  },
  {
   "cell_type": "code",
   "execution_count": 71,
   "id": "liberal-indicator",
   "metadata": {},
   "outputs": [
    {
     "name": "stdout",
     "output_type": "stream",
     "text": [
      "              precision    recall  f1-score   support\n",
      "\n",
      "           0       0.75      0.65      0.70      4635\n",
      "           1       0.90      0.02      0.03      2267\n",
      "           2       0.60      0.91      0.72      5446\n",
      "\n",
      "    accuracy                           0.65     12348\n",
      "   macro avg       0.75      0.53      0.48     12348\n",
      "weighted avg       0.71      0.65      0.59     12348\n",
      "\n"
     ]
    }
   ],
   "source": [
    "print(classification_report(y_test,predictions))"
   ]
  },
  {
   "cell_type": "code",
   "execution_count": null,
   "id": "annoying-lincoln",
   "metadata": {},
   "outputs": [],
   "source": []
  }
 ],
 "metadata": {
  "kernelspec": {
   "display_name": "Python 3",
   "language": "python",
   "name": "python3"
  },
  "language_info": {
   "codemirror_mode": {
    "name": "ipython",
    "version": 3
   },
   "file_extension": ".py",
   "mimetype": "text/x-python",
   "name": "python",
   "nbconvert_exporter": "python",
   "pygments_lexer": "ipython3",
   "version": "3.8.7"
  }
 },
 "nbformat": 4,
 "nbformat_minor": 5
}
