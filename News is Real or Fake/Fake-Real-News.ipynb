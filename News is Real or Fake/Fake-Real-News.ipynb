{
 "cells": [
  {
   "cell_type": "markdown",
   "metadata": {},
   "source": [
    "# Project-Predicting weather news is Fake or Real!\n"
   ]
  },
  {
   "cell_type": "markdown",
   "metadata": {},
   "source": [
    "in this project we are using NLTK library for text preprocessing "
   ]
  },
  {
   "cell_type": "markdown",
   "metadata": {},
   "source": [
    "Loading Data"
   ]
  },
  {
   "cell_type": "code",
   "execution_count": 1,
   "metadata": {},
   "outputs": [],
   "source": [
    "import pandas as pd\n",
    "import numpy as np\n",
    "import seaborn as sns\n",
    "import matplotlib.pyplot as plt\n",
    "%matplotlib inline"
   ]
  },
  {
   "cell_type": "code",
   "execution_count": 2,
   "metadata": {},
   "outputs": [],
   "source": [
    "df=pd.read_csv('news.csv')"
   ]
  },
  {
   "cell_type": "code",
   "execution_count": 3,
   "metadata": {},
   "outputs": [
    {
     "data": {
      "text/html": [
       "<div>\n",
       "<style scoped>\n",
       "    .dataframe tbody tr th:only-of-type {\n",
       "        vertical-align: middle;\n",
       "    }\n",
       "\n",
       "    .dataframe tbody tr th {\n",
       "        vertical-align: top;\n",
       "    }\n",
       "\n",
       "    .dataframe thead th {\n",
       "        text-align: right;\n",
       "    }\n",
       "</style>\n",
       "<table border=\"1\" class=\"dataframe\">\n",
       "  <thead>\n",
       "    <tr style=\"text-align: right;\">\n",
       "      <th></th>\n",
       "      <th>Unnamed: 0</th>\n",
       "      <th>title</th>\n",
       "      <th>text</th>\n",
       "      <th>label</th>\n",
       "    </tr>\n",
       "  </thead>\n",
       "  <tbody>\n",
       "    <tr>\n",
       "      <th>0</th>\n",
       "      <td>8476</td>\n",
       "      <td>You Can Smell Hillary’s Fear</td>\n",
       "      <td>Daniel Greenfield, a Shillman Journalism Fello...</td>\n",
       "      <td>FAKE</td>\n",
       "    </tr>\n",
       "    <tr>\n",
       "      <th>1</th>\n",
       "      <td>10294</td>\n",
       "      <td>Watch The Exact Moment Paul Ryan Committed Pol...</td>\n",
       "      <td>Google Pinterest Digg Linkedin Reddit Stumbleu...</td>\n",
       "      <td>FAKE</td>\n",
       "    </tr>\n",
       "    <tr>\n",
       "      <th>2</th>\n",
       "      <td>3608</td>\n",
       "      <td>Kerry to go to Paris in gesture of sympathy</td>\n",
       "      <td>U.S. Secretary of State John F. Kerry said Mon...</td>\n",
       "      <td>REAL</td>\n",
       "    </tr>\n",
       "    <tr>\n",
       "      <th>3</th>\n",
       "      <td>10142</td>\n",
       "      <td>Bernie supporters on Twitter erupt in anger ag...</td>\n",
       "      <td>— Kaydee King (@KaydeeKing) November 9, 2016 T...</td>\n",
       "      <td>FAKE</td>\n",
       "    </tr>\n",
       "    <tr>\n",
       "      <th>4</th>\n",
       "      <td>875</td>\n",
       "      <td>The Battle of New York: Why This Primary Matters</td>\n",
       "      <td>It's primary day in New York and front-runners...</td>\n",
       "      <td>REAL</td>\n",
       "    </tr>\n",
       "  </tbody>\n",
       "</table>\n",
       "</div>"
      ],
      "text/plain": [
       "   Unnamed: 0                                              title  \\\n",
       "0        8476                       You Can Smell Hillary’s Fear   \n",
       "1       10294  Watch The Exact Moment Paul Ryan Committed Pol...   \n",
       "2        3608        Kerry to go to Paris in gesture of sympathy   \n",
       "3       10142  Bernie supporters on Twitter erupt in anger ag...   \n",
       "4         875   The Battle of New York: Why This Primary Matters   \n",
       "\n",
       "                                                text label  \n",
       "0  Daniel Greenfield, a Shillman Journalism Fello...  FAKE  \n",
       "1  Google Pinterest Digg Linkedin Reddit Stumbleu...  FAKE  \n",
       "2  U.S. Secretary of State John F. Kerry said Mon...  REAL  \n",
       "3  — Kaydee King (@KaydeeKing) November 9, 2016 T...  FAKE  \n",
       "4  It's primary day in New York and front-runners...  REAL  "
      ]
     },
     "execution_count": 3,
     "metadata": {},
     "output_type": "execute_result"
    }
   ],
   "source": [
    "df.head()"
   ]
  },
  {
   "cell_type": "code",
   "execution_count": 4,
   "metadata": {},
   "outputs": [
    {
     "data": {
      "text/plain": [
       "REAL    3171\n",
       "FAKE    3164\n",
       "Name: label, dtype: int64"
      ]
     },
     "execution_count": 4,
     "metadata": {},
     "output_type": "execute_result"
    }
   ],
   "source": [
    "df['label'].value_counts()"
   ]
  },
  {
   "cell_type": "code",
   "execution_count": null,
   "metadata": {},
   "outputs": [],
   "source": []
  },
  {
   "cell_type": "code",
   "execution_count": 5,
   "metadata": {},
   "outputs": [],
   "source": [
    "text=df['text'][3]"
   ]
  },
  {
   "cell_type": "markdown",
   "metadata": {},
   "source": [
    "# Text Processing"
   ]
  },
  {
   "cell_type": "markdown",
   "metadata": {},
   "source": [
    "1.Removing Punctuations\n",
    "\n",
    "\n",
    "3.Removing Stopwords\n",
    "\n",
    "4.Vectorization\n",
    "\n",
    "\n",
    "5.TF-IDF and BOW"
   ]
  },
  {
   "cell_type": "code",
   "execution_count": 6,
   "metadata": {},
   "outputs": [],
   "source": [
    "import nltk\n",
    "import re\n",
    "from nltk.corpus import stopwords\n",
    "from nltk.stem import PorterStemmer\n",
    "from sklearn.preprocessing import LabelEncoder\n",
    "from sklearn.feature_extraction.text import CountVectorizer,TfidfVectorizer\n",
    "from sklearn import model_selection,naive_bayes\n",
    "from sklearn.metrics import accuracy_score,confusion_matrix,classification_report"
   ]
  },
  {
   "cell_type": "code",
   "execution_count": 7,
   "metadata": {},
   "outputs": [
    {
     "data": {
      "text/plain": [
       "['i', 'me', 'my', 'myself', 'we', 'our', 'ours', 'ourselves', 'you', \"you're\"]"
      ]
     },
     "execution_count": 7,
     "metadata": {},
     "output_type": "execute_result"
    }
   ],
   "source": [
    "stopwords.words('english')[0:10]"
   ]
  },
  {
   "cell_type": "code",
   "execution_count": 8,
   "metadata": {},
   "outputs": [],
   "source": [
    "import string"
   ]
  },
  {
   "cell_type": "code",
   "execution_count": 9,
   "metadata": {},
   "outputs": [
    {
     "data": {
      "text/plain": [
       "'Watch The Exact Moment Paul Ryan Committed Political Suicide At A Trump Rally (VIDEO)'"
      ]
     },
     "execution_count": 9,
     "metadata": {},
     "output_type": "execute_result"
    }
   ],
   "source": [
    "df['title'][:5][1]"
   ]
  },
  {
   "cell_type": "code",
   "execution_count": 10,
   "metadata": {},
   "outputs": [],
   "source": [
    "text=df['text'][:5][1]"
   ]
  },
  {
   "cell_type": "code",
   "execution_count": 11,
   "metadata": {},
   "outputs": [
    {
     "name": "stdout",
     "output_type": "stream",
     "text": [
      "2646\n"
     ]
    }
   ],
   "source": [
    "print(len(text))"
   ]
  },
  {
   "cell_type": "code",
   "execution_count": 12,
   "metadata": {
    "scrolled": true
   },
   "outputs": [
    {
     "data": {
      "text/plain": [
       "(6335, 4)"
      ]
     },
     "execution_count": 12,
     "metadata": {},
     "output_type": "execute_result"
    }
   ],
   "source": [
    "df.shape"
   ]
  },
  {
   "cell_type": "markdown",
   "metadata": {},
   "source": [
    "creating a Function which can removes stopwords and punctuations"
   ]
  },
  {
   "cell_type": "code",
   "execution_count": null,
   "metadata": {},
   "outputs": [],
   "source": [
    "def text_process(text):\n",
    "    nopunc=[char for char in text if char not in string.punctuation]\n",
    "    \n",
    "    nopunc=''.join(nopunc)\n",
    "    \n",
    "    cleaned= [mess for mess in nopunc.split() if mess.lower() not in stopwords.words('english')]\n",
    "    return ' '.join(cleaned)\n",
    "    "
   ]
  },
  {
   "cell_type": "markdown",
   "metadata": {},
   "source": [
    "just for testing our function"
   ]
  },
  {
   "cell_type": "code",
   "execution_count": 14,
   "metadata": {},
   "outputs": [
    {
     "data": {
      "text/plain": [
       "'Daniel Greenfield Shillman Journalism Fellow Freedom Center New York writer focusing radical Islam final stretch election Hillary Rodham Clinton gone war FBI word “unprecedented” thrown around often election ought retired it’s still unprecedented nominee major political party go war FBI that’s exactly Hillary people done Coma patients waking watching hour CNN hospital beds would assume FBI Director James Comey Hillary’s opponent election FBI attack everyone Obama CNN Hillary’s people circulated letter attacking Comey currently media hit pieces lambasting targeting Trump wouldn’t surprising Clintons allies start running attack ads FBI FBI’s leadership warned entire leftwing establishment form lynch mob continue going Hillary FBI’s credibility attacked media Democrats preemptively head results investigation Clinton Foundation Hillary Clinton covert struggle FBI agents Obama’s DOJ people gone explosively public New York Times compared Comey J Edgar Hoover bizarre headline “James Comey Role Recalls Hoover’s FBI Fairly Not” practically admits front it’s spouting nonsense Boston Globe published column calling Comey’s resignation outdone Time editorial claiming scandal really attack women James Carville appeared MSNBC remind everyone still alive insane accused Comey coordinating House Republicans KGB thought “vast right wing conspiracy” stretch Countless media stories charge Comey violating procedure know what’s procedural violation Emailing classified information stored bathroom server Senator Harry Reid sent Comey letter accusing violating Hatch Act Hatch Act nice idea much relevance age Obama Tenth Amendment cable news spectrum quickly filled media hacks glancing Wikipedia article Hatch Act table accusing FBI director one awkward conspiracies Hillary ever James Comey really hurt Hillary picked one hell strange way long ago Democrats breathing sigh relief gave Hillary Clinton pass prominent public statement really elect Trump keeping email scandal going trash investigation payroll House Republicans KGB back playing coy sudden development Vladimir Putin Paul Ryan talked taking look Anthony Weiner’s computer Either Comey cunning FBI director ever lived he’s awkwardly trying navigate political mess trapped DOJ leadership whose political futures tied Hillary’s victory bureau whose apolitical agents want allowed jobs truly mysterious thing Hillary associates decided go war respected Federal agency Americans like FBI Hillary Clinton enjoys 60 unfavorable rating it’s interesting question Hillary’s old strategy lie deny FBI even criminal investigation underway Instead associates insisted security review FBI corrected shrugged old breezy denial approach given way savage assault FBI Pretending nothing wrong bad strategy better one picking fight FBI lunatic Clinton associates try claim FBI really KGB two possible explanations Hillary Clinton might arrogant enough lash FBI believes victory near kind hubris led plan victory fireworks display could lead declare war FBI irritating final miles campaign explanation people panicked Going war FBI behavior smart focused presidential campaign It’s act desperation presidential candidate decides option try destroy credibility FBI that’s hubris it’s fear FBI might reveal original FBI investigation Hillary Clinton confident could ride good reason believing Hillary Clinton gone place paranoid wreck Within short space time “positive” Clinton campaign promising unite country replaced desperate flailing operation focused energy fighting FBI There’s one reason bizarre behavior Clinton campaign decided FBI investigation latest batch emails poses threat survival it’s gone fighting FBI It’s unprecedented step born fear It’s hard know whether fear justified existence fear already tells us whole lot Clinton loyalists rigged old investigation knew outcome ahead time well knew debate questions suddenly longer control afraid smell fear FBI wiretaps investigation Clinton Foundation It’s finding new emails time Clintonworld panicked spinmeisters Clintonworld claimed email scandal much smoke without fire that’s appearance impropriety without substance isn’t react smoke It’s respond fire misguided assault FBI tells us Hillary Clinton allies afraid revelation bigger fundamental illegality email setup email setup preemptive cover Clinton campaign panicked badly belief right wrong whatever crime illegal setup meant cover risk exposed Clintons weathered countless scandals years Whatever protecting time around bigger usual corruption bribery sexual assaults abuses power followed around throughout years bigger damaging allegations already come don’t want FBI investigators anywhere near campaign Comey pure intimidation It’s also warning senior FBI people value careers warned stay away Democrats closing ranks around nominee FBI It’s ugly unprecedented scene may also last stand Hillary Clinton awkwardly wound way numerous scandals election cycle she’s never shown fear desperation changed Whatever afraid lies buried emails Huma Abedin bring like nothing else'"
      ]
     },
     "execution_count": 14,
     "metadata": {},
     "output_type": "execute_result"
    }
   ],
   "source": [
    "df['text'][:5].apply(text_preprocess)[0]"
   ]
  },
  {
   "cell_type": "markdown",
   "metadata": {},
   "source": [
    "Now apply for whole data frame"
   ]
  },
  {
   "cell_type": "code",
   "execution_count": 16,
   "metadata": {},
   "outputs": [],
   "source": [
    "df['text']=df['text'].apply(text_preprocess)"
   ]
  },
  {
   "cell_type": "code",
   "execution_count": 17,
   "metadata": {},
   "outputs": [
    {
     "data": {
      "text/plain": [
       "0                         You Can Smell Hillary’s Fear\n",
       "1    Watch The Exact Moment Paul Ryan Committed Pol...\n",
       "2          Kerry to go to Paris in gesture of sympathy\n",
       "3    Bernie supporters on Twitter erupt in anger ag...\n",
       "4     The Battle of New York: Why This Primary Matters\n",
       "Name: title, dtype: object"
      ]
     },
     "execution_count": 17,
     "metadata": {},
     "output_type": "execute_result"
    }
   ],
   "source": [
    "df['title'].head(5)"
   ]
  },
  {
   "cell_type": "markdown",
   "metadata": {},
   "source": [
    "we are using only two columns"
   ]
  },
  {
   "cell_type": "code",
   "execution_count": 30,
   "metadata": {},
   "outputs": [],
   "source": [
    "df=df[['text','label']]"
   ]
  },
  {
   "cell_type": "markdown",
   "metadata": {},
   "source": [
    "#### Vectorization of words"
   ]
  },
  {
   "cell_type": "code",
   "execution_count": 32,
   "metadata": {},
   "outputs": [],
   "source": [
    "from sklearn.feature_extraction.text import CountVectorizer"
   ]
  },
  {
   "cell_type": "code",
   "execution_count": 37,
   "metadata": {},
   "outputs": [
    {
     "data": {
      "text/plain": [
       "CountVectorizer()"
      ]
     },
     "execution_count": 37,
     "metadata": {},
     "output_type": "execute_result"
    }
   ],
   "source": [
    "bow_transformer=CountVectorizer()\n",
    "bow_transformer.fit(df['text'])"
   ]
  },
  {
   "cell_type": "code",
   "execution_count": 38,
   "metadata": {},
   "outputs": [
    {
     "name": "stdout",
     "output_type": "stream",
     "text": [
      "84098\n"
     ]
    }
   ],
   "source": [
    "print(len(bow_transformer.vocabulary_))"
   ]
  },
  {
   "cell_type": "code",
   "execution_count": 39,
   "metadata": {},
   "outputs": [],
   "source": [
    "# applying bow transformer for text columns"
   ]
  },
  {
   "cell_type": "code",
   "execution_count": 40,
   "metadata": {},
   "outputs": [
    {
     "name": "stdout",
     "output_type": "stream",
     "text": [
      "(6335, 84098)\n"
     ]
    }
   ],
   "source": [
    "text_bow= bow_transformer.transform(df['text'])\n",
    "print(text_bow.shape)"
   ]
  },
  {
   "cell_type": "code",
   "execution_count": null,
   "metadata": {},
   "outputs": [],
   "source": []
  },
  {
   "cell_type": "markdown",
   "metadata": {},
   "source": [
    "## TF-IDF"
   ]
  },
  {
   "cell_type": "code",
   "execution_count": 41,
   "metadata": {},
   "outputs": [],
   "source": [
    "from sklearn.feature_extraction.text import TfidfTransformer"
   ]
  },
  {
   "cell_type": "code",
   "execution_count": 42,
   "metadata": {},
   "outputs": [],
   "source": [
    "tfidf_transformer= TfidfTransformer().fit(text_bow)"
   ]
  },
  {
   "cell_type": "code",
   "execution_count": 44,
   "metadata": {},
   "outputs": [],
   "source": [
    "text_tfidf= tfidf_transformer.transform(text_bow)"
   ]
  },
  {
   "cell_type": "code",
   "execution_count": 46,
   "metadata": {},
   "outputs": [
    {
     "name": "stdout",
     "output_type": "stream",
     "text": [
      "(6335, 84098)\n"
     ]
    }
   ],
   "source": [
    "print(text_tfidf.shape)"
   ]
  },
  {
   "cell_type": "code",
   "execution_count": 48,
   "metadata": {},
   "outputs": [
    {
     "name": "stdout",
     "output_type": "stream",
     "text": [
      "  (0, 83157)\t0.029538471091203337\n",
      "  (0, 83014)\t0.021475039138456373\n",
      "  (0, 82637)\t0.03635452978514796\n",
      "  (0, 82619)\t0.024817512986768715\n",
      "  (0, 82567)\t0.036027398290423174\n",
      "  (0, 82518)\t0.02947895518074981\n",
      "  (0, 82513)\t0.02221922635630432\n",
      "  (0, 82509)\t0.008472389575812372\n",
      "  (0, 82355)\t0.020105378285925467\n",
      "  (0, 82265)\t0.016235243139640018\n",
      "  (0, 82146)\t0.027477050528252958\n",
      "  (0, 82145)\t0.01626575170723163\n",
      "  (0, 82074)\t0.040553368917539204\n",
      "  (0, 81986)\t0.024760086591520625\n",
      "  (0, 81829)\t0.034017163069481375\n",
      "  (0, 81730)\t0.03467222262205528\n",
      "  (0, 81699)\t0.017825259128271067\n",
      "  (0, 81544)\t0.013477847034772086\n",
      "  (0, 81496)\t0.060132980690471585\n",
      "  (0, 81495)\t0.018618531062560485\n",
      "  (0, 81240)\t0.011458292155055004\n",
      "  (0, 81184)\t0.026490747940941774\n",
      "  (0, 81064)\t0.04165964320271544\n",
      "  (0, 80957)\t0.033391650420069814\n",
      "  (0, 80876)\t0.022909236256269862\n",
      "  :\t:\n",
      "  (0, 7851)\t0.039632419111336074\n",
      "  (0, 7792)\t0.02502335123623719\n",
      "  (0, 7329)\t0.024190683803568785\n",
      "  (0, 6802)\t0.013987804684982653\n",
      "  (0, 6755)\t0.023012283819038377\n",
      "  (0, 6554)\t0.017444098591015172\n",
      "  (0, 6513)\t0.027822862052374837\n",
      "  (0, 6350)\t0.0193493192384821\n",
      "  (0, 6311)\t0.03915765646052712\n",
      "  (0, 6263)\t0.024536182352306934\n",
      "  (0, 6194)\t0.025793842625325355\n",
      "  (0, 5701)\t0.01856256221539855\n",
      "  (0, 5646)\t0.014954201264668742\n",
      "  (0, 5587)\t0.04610809658445124\n",
      "  (0, 5578)\t0.019760338752120177\n",
      "  (0, 5566)\t0.020967484948237428\n",
      "  (0, 5497)\t0.07618544160127289\n",
      "  (0, 5291)\t0.025863187993677393\n",
      "  (0, 5237)\t0.029615082691942386\n",
      "  (0, 4979)\t0.06521034503659062\n",
      "  (0, 4856)\t0.05503874937530733\n",
      "  (0, 4852)\t0.020434225729100565\n",
      "  (0, 4694)\t0.03059270456414814\n",
      "  (0, 4495)\t0.026649403036855947\n",
      "  (0, 3436)\t0.021622195478402613\n"
     ]
    }
   ],
   "source": [
    "print(text_tfidf[0])"
   ]
  },
  {
   "cell_type": "code",
   "execution_count": 49,
   "metadata": {},
   "outputs": [
    {
     "data": {
      "text/plain": [
       "0    FAKE\n",
       "1    FAKE\n",
       "2    REAL\n",
       "3    FAKE\n",
       "4    REAL\n",
       "Name: label, dtype: object"
      ]
     },
     "execution_count": 49,
     "metadata": {},
     "output_type": "execute_result"
    }
   ],
   "source": [
    "labels=df.label\n",
    "labels[:5]"
   ]
  },
  {
   "cell_type": "markdown",
   "metadata": {},
   "source": [
    "converting object into float for lebel"
   ]
  },
  {
   "cell_type": "code",
   "execution_count": 52,
   "metadata": {},
   "outputs": [
    {
     "data": {
      "text/plain": [
       "text     object\n",
       "label    object\n",
       "dtype: object"
      ]
     },
     "execution_count": 52,
     "metadata": {},
     "output_type": "execute_result"
    }
   ],
   "source": [
    "df.dtypes"
   ]
  },
  {
   "cell_type": "code",
   "execution_count": 54,
   "metadata": {},
   "outputs": [
    {
     "data": {
      "text/plain": [
       "REAL    3171\n",
       "FAKE    3164\n",
       "Name: label, dtype: int64"
      ]
     },
     "execution_count": 54,
     "metadata": {},
     "output_type": "execute_result"
    }
   ],
   "source": [
    "df.label.value_counts()"
   ]
  },
  {
   "cell_type": "code",
   "execution_count": 55,
   "metadata": {},
   "outputs": [],
   "source": [
    "def label_encoding(label):\n",
    "    if label == 'REAL':\n",
    "        return 1\n",
    "    else:\n",
    "        return 0"
   ]
  },
  {
   "cell_type": "code",
   "execution_count": 56,
   "metadata": {},
   "outputs": [],
   "source": [
    "df['label']= df['label'].apply(label_encoding)"
   ]
  },
  {
   "cell_type": "code",
   "execution_count": 57,
   "metadata": {},
   "outputs": [],
   "source": [
    "X=text_tfidf\n",
    "y=df['label']"
   ]
  },
  {
   "cell_type": "code",
   "execution_count": 59,
   "metadata": {},
   "outputs": [
    {
     "data": {
      "text/plain": [
       "((6335, 84098), (6335,))"
      ]
     },
     "execution_count": 59,
     "metadata": {},
     "output_type": "execute_result"
    }
   ],
   "source": [
    "X.shape , y.shape"
   ]
  },
  {
   "cell_type": "markdown",
   "metadata": {},
   "source": [
    "#### Spliting data into training and testing set"
   ]
  },
  {
   "cell_type": "code",
   "execution_count": 64,
   "metadata": {},
   "outputs": [],
   "source": [
    "from sklearn.model_selection import train_test_split\n",
    "X_train,X_test,y_train,y_test=train_test_split(X, y, test_size=0.2, random_state=101)"
   ]
  },
  {
   "cell_type": "code",
   "execution_count": null,
   "metadata": {},
   "outputs": [],
   "source": []
  },
  {
   "cell_type": "markdown",
   "metadata": {},
   "source": [
    "#### Model Building"
   ]
  },
  {
   "cell_type": "markdown",
   "metadata": {},
   "source": [
    "logistic Regression"
   ]
  },
  {
   "cell_type": "code",
   "execution_count": 65,
   "metadata": {},
   "outputs": [],
   "source": [
    "from sklearn.linear_model import LogisticRegression"
   ]
  },
  {
   "cell_type": "code",
   "execution_count": 66,
   "metadata": {},
   "outputs": [],
   "source": [
    "lr= LogisticRegression()"
   ]
  },
  {
   "cell_type": "code",
   "execution_count": 67,
   "metadata": {},
   "outputs": [
    {
     "data": {
      "text/plain": [
       "LogisticRegression()"
      ]
     },
     "execution_count": 67,
     "metadata": {},
     "output_type": "execute_result"
    }
   ],
   "source": [
    "lr.fit(X_train, y_train)"
   ]
  },
  {
   "cell_type": "code",
   "execution_count": 70,
   "metadata": {},
   "outputs": [
    {
     "data": {
      "text/plain": [
       "array([1, 1, 0, 0, 1], dtype=int64)"
      ]
     },
     "execution_count": 70,
     "metadata": {},
     "output_type": "execute_result"
    }
   ],
   "source": [
    "lr_predictions=lr.predict(X_test)\n",
    "lr_predictions[:5]"
   ]
  },
  {
   "cell_type": "code",
   "execution_count": 71,
   "metadata": {},
   "outputs": [
    {
     "data": {
      "text/plain": [
       "678     1\n",
       "4325    1\n",
       "847     0\n",
       "559     0\n",
       "6167    1\n",
       "Name: label, dtype: int64"
      ]
     },
     "execution_count": 71,
     "metadata": {},
     "output_type": "execute_result"
    }
   ],
   "source": [
    "y_test[:5]"
   ]
  },
  {
   "cell_type": "markdown",
   "metadata": {},
   "source": [
    "#### Model Evaluation"
   ]
  },
  {
   "cell_type": "code",
   "execution_count": 73,
   "metadata": {},
   "outputs": [],
   "source": [
    "from sklearn.metrics import classification_report, confusion_matrix "
   ]
  },
  {
   "cell_type": "code",
   "execution_count": 75,
   "metadata": {},
   "outputs": [
    {
     "name": "stdout",
     "output_type": "stream",
     "text": [
      "              precision    recall  f1-score   support\n",
      "\n",
      "           0       0.87      0.95      0.91       614\n",
      "           1       0.95      0.87      0.91       653\n",
      "\n",
      "    accuracy                           0.91      1267\n",
      "   macro avg       0.91      0.91      0.91      1267\n",
      "weighted avg       0.91      0.91      0.91      1267\n",
      "\n"
     ]
    }
   ],
   "source": [
    "print(classification_report(y_test, lr_predictions))"
   ]
  },
  {
   "cell_type": "code",
   "execution_count": 76,
   "metadata": {},
   "outputs": [
    {
     "name": "stdout",
     "output_type": "stream",
     "text": [
      "[[585  29]\n",
      " [ 84 569]]\n"
     ]
    }
   ],
   "source": [
    "print(confusion_matrix(y_test, lr_predictions))"
   ]
  },
  {
   "cell_type": "code",
   "execution_count": null,
   "metadata": {},
   "outputs": [],
   "source": []
  },
  {
   "cell_type": "code",
   "execution_count": null,
   "metadata": {},
   "outputs": [],
   "source": []
  },
  {
   "cell_type": "code",
   "execution_count": null,
   "metadata": {},
   "outputs": [],
   "source": []
  }
 ],
 "metadata": {
  "kernelspec": {
   "display_name": "Python 3",
   "language": "python",
   "name": "python3"
  },
  "language_info": {
   "codemirror_mode": {
    "name": "ipython",
    "version": 3
   },
   "file_extension": ".py",
   "mimetype": "text/x-python",
   "name": "python",
   "nbconvert_exporter": "python",
   "pygments_lexer": "ipython3",
   "version": "3.8.7"
  }
 },
 "nbformat": 4,
 "nbformat_minor": 4
}
